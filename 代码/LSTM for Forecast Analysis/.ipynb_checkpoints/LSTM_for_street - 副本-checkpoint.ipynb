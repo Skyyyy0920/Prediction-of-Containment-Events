{
 "cells": [
  {
   "cell_type": "markdown",
   "id": "446720af",
   "metadata": {},
   "source": [
    "### 1. 导入相关包"
   ]
  },
  {
   "cell_type": "code",
   "execution_count": 1,
   "id": "063f4cd0",
   "metadata": {},
   "outputs": [
    {
     "name": "stderr",
     "output_type": "stream",
     "text": [
      "C:\\ProgramData\\Anaconda3\\lib\\site-packages\\numpy\\_distributor_init.py:30: UserWarning: loaded more than 1 DLL from .libs:\n",
      "C:\\ProgramData\\Anaconda3\\lib\\site-packages\\numpy\\.libs\\libopenblas.FB5AE2TYXYH2IJRDKGDGQ3XBKLKTF43H.gfortran-win_amd64.dll\n",
      "C:\\ProgramData\\Anaconda3\\lib\\site-packages\\numpy\\.libs\\libopenblas.WCDJNK7YVMPZQ2ME2ZZHJJRJ3JIKNDB7.gfortran-win_amd64.dll\n",
      "  warnings.warn(\"loaded more than 1 DLL from .libs:\"\n"
     ]
    },
    {
     "ename": "AttributeError",
     "evalue": "module 'tensorflow.python.util.dispatch' has no attribute 'add_fallback_dispatch_list'",
     "output_type": "error",
     "traceback": [
      "\u001b[1;31m---------------------------------------------------------------------------\u001b[0m",
      "\u001b[1;31mAttributeError\u001b[0m                            Traceback (most recent call last)",
      "\u001b[1;32m~\\AppData\\Local\\Temp\\ipykernel_24120\\3752966632.py\u001b[0m in \u001b[0;36m<cell line: 4>\u001b[1;34m()\u001b[0m\n\u001b[0;32m      2\u001b[0m \u001b[1;32mimport\u001b[0m \u001b[0mpandas\u001b[0m \u001b[1;32mas\u001b[0m \u001b[0mpd\u001b[0m\u001b[1;33m\u001b[0m\u001b[1;33m\u001b[0m\u001b[0m\n\u001b[0;32m      3\u001b[0m \u001b[1;32mfrom\u001b[0m \u001b[0mmatplotlib\u001b[0m \u001b[1;32mimport\u001b[0m \u001b[0mpyplot\u001b[0m \u001b[1;32mas\u001b[0m \u001b[0mplt\u001b[0m\u001b[1;33m\u001b[0m\u001b[1;33m\u001b[0m\u001b[0m\n\u001b[1;32m----> 4\u001b[1;33m \u001b[1;32mfrom\u001b[0m \u001b[0mtensorflow\u001b[0m\u001b[1;33m.\u001b[0m\u001b[0mkeras\u001b[0m\u001b[1;33m.\u001b[0m\u001b[0mmodels\u001b[0m \u001b[1;32mimport\u001b[0m \u001b[0mSequential\u001b[0m\u001b[1;33m\u001b[0m\u001b[1;33m\u001b[0m\u001b[0m\n\u001b[0m\u001b[0;32m      5\u001b[0m \u001b[1;32mfrom\u001b[0m \u001b[0mtensorflow\u001b[0m\u001b[1;33m.\u001b[0m\u001b[0mkeras\u001b[0m\u001b[1;33m.\u001b[0m\u001b[0mlayers\u001b[0m \u001b[1;32mimport\u001b[0m \u001b[0mLSTM\u001b[0m\u001b[1;33m,\u001b[0m \u001b[0mDense\u001b[0m\u001b[1;33m,\u001b[0m \u001b[0mDropout\u001b[0m\u001b[1;33m\u001b[0m\u001b[1;33m\u001b[0m\u001b[0m\n\u001b[0;32m      6\u001b[0m \u001b[1;32mfrom\u001b[0m \u001b[0msklearn\u001b[0m\u001b[1;33m.\u001b[0m\u001b[0mpreprocessing\u001b[0m \u001b[1;32mimport\u001b[0m \u001b[0mMinMaxScaler\u001b[0m\u001b[1;33m\u001b[0m\u001b[1;33m\u001b[0m\u001b[0m\n",
      "\u001b[1;32mC:\\ProgramData\\Anaconda3\\lib\\site-packages\\keras\\api\\_v2\\keras\\__init__.py\u001b[0m in \u001b[0;36m<module>\u001b[1;34m\u001b[0m\n\u001b[0;32m     10\u001b[0m \u001b[1;32mimport\u001b[0m \u001b[0msys\u001b[0m \u001b[1;32mas\u001b[0m \u001b[0m_sys\u001b[0m\u001b[1;33m\u001b[0m\u001b[1;33m\u001b[0m\u001b[0m\n\u001b[0;32m     11\u001b[0m \u001b[1;33m\u001b[0m\u001b[0m\n\u001b[1;32m---> 12\u001b[1;33m \u001b[1;32mfrom\u001b[0m \u001b[0mkeras\u001b[0m \u001b[1;32mimport\u001b[0m \u001b[0m__version__\u001b[0m\u001b[1;33m\u001b[0m\u001b[1;33m\u001b[0m\u001b[0m\n\u001b[0m\u001b[0;32m     13\u001b[0m \u001b[1;32mfrom\u001b[0m \u001b[0mkeras\u001b[0m\u001b[1;33m.\u001b[0m\u001b[0mapi\u001b[0m\u001b[1;33m.\u001b[0m\u001b[0m_v2\u001b[0m\u001b[1;33m.\u001b[0m\u001b[0mkeras\u001b[0m \u001b[1;32mimport\u001b[0m \u001b[0m__internal__\u001b[0m\u001b[1;33m\u001b[0m\u001b[1;33m\u001b[0m\u001b[0m\n\u001b[0;32m     14\u001b[0m \u001b[1;32mfrom\u001b[0m \u001b[0mkeras\u001b[0m\u001b[1;33m.\u001b[0m\u001b[0mapi\u001b[0m\u001b[1;33m.\u001b[0m\u001b[0m_v2\u001b[0m\u001b[1;33m.\u001b[0m\u001b[0mkeras\u001b[0m \u001b[1;32mimport\u001b[0m \u001b[0mactivations\u001b[0m\u001b[1;33m\u001b[0m\u001b[1;33m\u001b[0m\u001b[0m\n",
      "\u001b[1;32mC:\\ProgramData\\Anaconda3\\lib\\site-packages\\keras\\__init__.py\u001b[0m in \u001b[0;36m<module>\u001b[1;34m\u001b[0m\n\u001b[0;32m     22\u001b[0m \u001b[1;32mfrom\u001b[0m \u001b[0mkeras\u001b[0m \u001b[1;32mimport\u001b[0m \u001b[0mdistribute\u001b[0m\u001b[1;33m\u001b[0m\u001b[1;33m\u001b[0m\u001b[0m\n\u001b[0;32m     23\u001b[0m \u001b[1;33m\u001b[0m\u001b[0m\n\u001b[1;32m---> 24\u001b[1;33m \u001b[1;32mfrom\u001b[0m \u001b[0mkeras\u001b[0m \u001b[1;32mimport\u001b[0m \u001b[0mmodels\u001b[0m\u001b[1;33m\u001b[0m\u001b[1;33m\u001b[0m\u001b[0m\n\u001b[0m\u001b[0;32m     25\u001b[0m \u001b[1;33m\u001b[0m\u001b[0m\n\u001b[0;32m     26\u001b[0m \u001b[1;32mfrom\u001b[0m \u001b[0mkeras\u001b[0m\u001b[1;33m.\u001b[0m\u001b[0mengine\u001b[0m\u001b[1;33m.\u001b[0m\u001b[0minput_layer\u001b[0m \u001b[1;32mimport\u001b[0m \u001b[0mInput\u001b[0m\u001b[1;33m\u001b[0m\u001b[1;33m\u001b[0m\u001b[0m\n",
      "\u001b[1;32mC:\\ProgramData\\Anaconda3\\lib\\site-packages\\keras\\models\\__init__.py\u001b[0m in \u001b[0;36m<module>\u001b[1;34m\u001b[0m\n\u001b[0;32m     16\u001b[0m \u001b[1;31m# pylint: disable=g-bad-import-order\u001b[0m\u001b[1;33m\u001b[0m\u001b[1;33m\u001b[0m\u001b[0m\n\u001b[0;32m     17\u001b[0m \u001b[1;33m\u001b[0m\u001b[0m\n\u001b[1;32m---> 18\u001b[1;33m \u001b[1;32mfrom\u001b[0m \u001b[0mkeras\u001b[0m\u001b[1;33m.\u001b[0m\u001b[0mengine\u001b[0m\u001b[1;33m.\u001b[0m\u001b[0mfunctional\u001b[0m \u001b[1;32mimport\u001b[0m \u001b[0mFunctional\u001b[0m\u001b[1;33m\u001b[0m\u001b[1;33m\u001b[0m\u001b[0m\n\u001b[0m\u001b[0;32m     19\u001b[0m \u001b[1;32mfrom\u001b[0m \u001b[0mkeras\u001b[0m\u001b[1;33m.\u001b[0m\u001b[0mengine\u001b[0m\u001b[1;33m.\u001b[0m\u001b[0msequential\u001b[0m \u001b[1;32mimport\u001b[0m \u001b[0mSequential\u001b[0m\u001b[1;33m\u001b[0m\u001b[1;33m\u001b[0m\u001b[0m\n\u001b[0;32m     20\u001b[0m \u001b[1;32mfrom\u001b[0m \u001b[0mkeras\u001b[0m\u001b[1;33m.\u001b[0m\u001b[0mengine\u001b[0m\u001b[1;33m.\u001b[0m\u001b[0mtraining\u001b[0m \u001b[1;32mimport\u001b[0m \u001b[0mModel\u001b[0m\u001b[1;33m\u001b[0m\u001b[1;33m\u001b[0m\u001b[0m\n",
      "\u001b[1;32mC:\\ProgramData\\Anaconda3\\lib\\site-packages\\keras\\engine\\functional.py\u001b[0m in \u001b[0;36m<module>\u001b[1;34m\u001b[0m\n\u001b[0;32m     22\u001b[0m \u001b[1;32mimport\u001b[0m \u001b[0mwarnings\u001b[0m\u001b[1;33m\u001b[0m\u001b[1;33m\u001b[0m\u001b[0m\n\u001b[0;32m     23\u001b[0m \u001b[1;32mfrom\u001b[0m \u001b[0mkeras\u001b[0m \u001b[1;32mimport\u001b[0m \u001b[0mbackend\u001b[0m\u001b[1;33m\u001b[0m\u001b[1;33m\u001b[0m\u001b[0m\n\u001b[1;32m---> 24\u001b[1;33m \u001b[1;32mfrom\u001b[0m \u001b[0mkeras\u001b[0m\u001b[1;33m.\u001b[0m\u001b[0mdtensor\u001b[0m \u001b[1;32mimport\u001b[0m \u001b[0mlayout_map\u001b[0m \u001b[1;32mas\u001b[0m \u001b[0mlayout_map_lib\u001b[0m\u001b[1;33m\u001b[0m\u001b[1;33m\u001b[0m\u001b[0m\n\u001b[0m\u001b[0;32m     25\u001b[0m \u001b[1;32mfrom\u001b[0m \u001b[0mkeras\u001b[0m\u001b[1;33m.\u001b[0m\u001b[0mengine\u001b[0m \u001b[1;32mimport\u001b[0m \u001b[0mbase_layer\u001b[0m\u001b[1;33m\u001b[0m\u001b[1;33m\u001b[0m\u001b[0m\n\u001b[0;32m     26\u001b[0m \u001b[1;32mfrom\u001b[0m \u001b[0mkeras\u001b[0m\u001b[1;33m.\u001b[0m\u001b[0mengine\u001b[0m \u001b[1;32mimport\u001b[0m \u001b[0mbase_layer_utils\u001b[0m\u001b[1;33m\u001b[0m\u001b[1;33m\u001b[0m\u001b[0m\n",
      "\u001b[1;32mC:\\ProgramData\\Anaconda3\\lib\\site-packages\\keras\\dtensor\\__init__.py\u001b[0m in \u001b[0;36m<module>\u001b[1;34m\u001b[0m\n\u001b[0;32m     20\u001b[0m \u001b[1;31m# Conditional import the dtensor API, since it is currently broken in OSS.\u001b[0m\u001b[1;33m\u001b[0m\u001b[1;33m\u001b[0m\u001b[0m\n\u001b[0;32m     21\u001b[0m \u001b[1;32mif\u001b[0m \u001b[0m_DTENSOR_API_ENABLED\u001b[0m\u001b[1;33m:\u001b[0m\u001b[1;33m\u001b[0m\u001b[1;33m\u001b[0m\u001b[0m\n\u001b[1;32m---> 22\u001b[1;33m   \u001b[1;32mfrom\u001b[0m \u001b[0mtensorflow\u001b[0m\u001b[1;33m.\u001b[0m\u001b[0mcompat\u001b[0m\u001b[1;33m.\u001b[0m\u001b[0mv2\u001b[0m\u001b[1;33m.\u001b[0m\u001b[0mexperimental\u001b[0m \u001b[1;32mimport\u001b[0m \u001b[0mdtensor\u001b[0m \u001b[1;32mas\u001b[0m \u001b[0mdtensor_api\u001b[0m  \u001b[1;31m# pylint: disable=g-import-not-at-top\u001b[0m\u001b[1;33m\u001b[0m\u001b[1;33m\u001b[0m\u001b[0m\n\u001b[0m\u001b[0;32m     23\u001b[0m \u001b[1;32melse\u001b[0m\u001b[1;33m:\u001b[0m\u001b[1;33m\u001b[0m\u001b[1;33m\u001b[0m\u001b[0m\n\u001b[0;32m     24\u001b[0m   \u001b[1;31m# Leave it with a placeholder, so that the import line from other python file\u001b[0m\u001b[1;33m\u001b[0m\u001b[1;33m\u001b[0m\u001b[0m\n",
      "\u001b[1;32mC:\\ProgramData\\Anaconda3\\lib\\site-packages\\tensorflow\\_api\\v2\\compat\\v2\\experimental\\dtensor\\__init__.py\u001b[0m in \u001b[0;36m<module>\u001b[1;34m\u001b[0m\n\u001b[0;32m      6\u001b[0m \u001b[1;32mimport\u001b[0m \u001b[0msys\u001b[0m \u001b[1;32mas\u001b[0m \u001b[0m_sys\u001b[0m\u001b[1;33m\u001b[0m\u001b[1;33m\u001b[0m\u001b[0m\n\u001b[0;32m      7\u001b[0m \u001b[1;33m\u001b[0m\u001b[0m\n\u001b[1;32m----> 8\u001b[1;33m \u001b[1;32mfrom\u001b[0m \u001b[0mtensorflow\u001b[0m\u001b[1;33m.\u001b[0m\u001b[0mdtensor\u001b[0m\u001b[1;33m.\u001b[0m\u001b[0mpython\u001b[0m\u001b[1;33m.\u001b[0m\u001b[0mapi\u001b[0m \u001b[1;32mimport\u001b[0m \u001b[0mcall_with_layout\u001b[0m\u001b[1;33m\u001b[0m\u001b[1;33m\u001b[0m\u001b[0m\n\u001b[0m\u001b[0;32m      9\u001b[0m \u001b[1;32mfrom\u001b[0m \u001b[0mtensorflow\u001b[0m\u001b[1;33m.\u001b[0m\u001b[0mdtensor\u001b[0m\u001b[1;33m.\u001b[0m\u001b[0mpython\u001b[0m\u001b[1;33m.\u001b[0m\u001b[0mapi\u001b[0m \u001b[1;32mimport\u001b[0m \u001b[0mcheck_layout\u001b[0m\u001b[1;33m\u001b[0m\u001b[1;33m\u001b[0m\u001b[0m\n\u001b[0;32m     10\u001b[0m \u001b[1;32mfrom\u001b[0m \u001b[0mtensorflow\u001b[0m\u001b[1;33m.\u001b[0m\u001b[0mdtensor\u001b[0m\u001b[1;33m.\u001b[0m\u001b[0mpython\u001b[0m\u001b[1;33m.\u001b[0m\u001b[0mapi\u001b[0m \u001b[1;32mimport\u001b[0m \u001b[0mclient_id\u001b[0m\u001b[1;33m\u001b[0m\u001b[1;33m\u001b[0m\u001b[0m\n",
      "\u001b[1;32mC:\\ProgramData\\Anaconda3\\lib\\site-packages\\tensorflow\\dtensor\\python\\__init__.py\u001b[0m in \u001b[0;36m<module>\u001b[1;34m\u001b[0m\n\u001b[0;32m     15\u001b[0m \u001b[1;34m\"\"\"DTensor Python API.\"\"\"\u001b[0m\u001b[1;33m\u001b[0m\u001b[1;33m\u001b[0m\u001b[0m\n\u001b[0;32m     16\u001b[0m \u001b[1;33m\u001b[0m\u001b[0m\n\u001b[1;32m---> 17\u001b[1;33m \u001b[1;32mfrom\u001b[0m \u001b[0mtensorflow\u001b[0m\u001b[1;33m.\u001b[0m\u001b[0mdtensor\u001b[0m\u001b[1;33m.\u001b[0m\u001b[0mpython\u001b[0m \u001b[1;32mimport\u001b[0m \u001b[0mgen_dtensor_ops\u001b[0m \u001b[1;32mas\u001b[0m \u001b[0mops\u001b[0m\u001b[1;33m\u001b[0m\u001b[1;33m\u001b[0m\u001b[0m\n\u001b[0m\u001b[0;32m     18\u001b[0m \u001b[1;32mfrom\u001b[0m \u001b[0mtensorflow\u001b[0m\u001b[1;33m.\u001b[0m\u001b[0mdtensor\u001b[0m\u001b[1;33m.\u001b[0m\u001b[0mpython\u001b[0m \u001b[1;32mimport\u001b[0m \u001b[0mmesh_util\u001b[0m\u001b[1;33m\u001b[0m\u001b[1;33m\u001b[0m\u001b[0m\n\u001b[0;32m     19\u001b[0m \u001b[1;32mfrom\u001b[0m \u001b[0mtensorflow\u001b[0m\u001b[1;33m.\u001b[0m\u001b[0mdtensor\u001b[0m\u001b[1;33m.\u001b[0m\u001b[0mpython\u001b[0m \u001b[1;32mimport\u001b[0m \u001b[0mtpu_util\u001b[0m\u001b[1;33m\u001b[0m\u001b[1;33m\u001b[0m\u001b[0m\n",
      "\u001b[1;32mC:\\ProgramData\\Anaconda3\\lib\\site-packages\\tensorflow\\dtensor\\python\\gen_dtensor_ops.py\u001b[0m in \u001b[0;36m<module>\u001b[1;34m\u001b[0m\n\u001b[0;32m     21\u001b[0m \u001b[1;32mfrom\u001b[0m \u001b[0mtyping\u001b[0m \u001b[1;32mimport\u001b[0m \u001b[0mTypeVar\u001b[0m\u001b[1;33m\u001b[0m\u001b[1;33m\u001b[0m\u001b[0m\n\u001b[0;32m     22\u001b[0m \u001b[1;33m\u001b[0m\u001b[0m\n\u001b[1;32m---> 23\u001b[1;33m \u001b[1;33m@\u001b[0m\u001b[0m_dispatch\u001b[0m\u001b[1;33m.\u001b[0m\u001b[0madd_fallback_dispatch_list\u001b[0m\u001b[1;33m\u001b[0m\u001b[1;33m\u001b[0m\u001b[0m\n\u001b[0m\u001b[0;32m     24\u001b[0m \u001b[1;33m@\u001b[0m\u001b[0m_dispatch\u001b[0m\u001b[1;33m.\u001b[0m\u001b[0madd_type_based_api_dispatcher\u001b[0m\u001b[1;33m\u001b[0m\u001b[1;33m\u001b[0m\u001b[0m\n\u001b[0;32m     25\u001b[0m \u001b[1;33m@\u001b[0m\u001b[0mtf_export\u001b[0m\u001b[1;33m(\u001b[0m\u001b[1;34m'configure_and_initialize_global_tpu'\u001b[0m\u001b[1;33m)\u001b[0m\u001b[1;33m\u001b[0m\u001b[1;33m\u001b[0m\u001b[0m\n",
      "\u001b[1;31mAttributeError\u001b[0m: module 'tensorflow.python.util.dispatch' has no attribute 'add_fallback_dispatch_list'"
     ]
    }
   ],
   "source": [
    "import numpy as np\n",
    "import pandas as pd\n",
    "from matplotlib import pyplot as plt\n",
    "from tensorflow.keras.models import Sequential\n",
    "from tensorflow.keras.layers import LSTM, Dense, Dropout\n",
    "from sklearn.preprocessing import MinMaxScaler\n",
    "from keras.wrappers.scikit_learn import KerasClassifier\n",
    "from sklearn.model_selection import GridSearchCV"
   ]
  },
  {
   "cell_type": "code",
   "execution_count": 5,
   "id": "50d19865",
   "metadata": {},
   "outputs": [],
   "source": [
    "import numpy as np\n",
    "import pandas as pd\n",
    "from matplotlib import pyplot as plt\n",
    "import tensorflow as tf\n",
    "from sklearn.preprocessing import MinMaxScaler\n",
    "# from keras.wrappers.scikit_learn import KerasClassifier\n",
    "from sklearn.model_selection import GridSearchCV"
   ]
  },
  {
   "cell_type": "markdown",
   "id": "e1e0f95e",
   "metadata": {},
   "source": [
    "### 2. 读取数据，简单进行处理"
   ]
  },
  {
   "cell_type": "code",
   "execution_count": 2,
   "id": "535e9ce5",
   "metadata": {},
   "outputs": [],
   "source": [
    "path = 'C:/Users/new/Desktop/Prediction-of-Containment-Events/数据/dataset.csv'\n",
    "data = pd.read_csv(path)"
   ]
  },
  {
   "cell_type": "code",
   "execution_count": 3,
   "id": "1c0a1358",
   "metadata": {},
   "outputs": [
    {
     "data": {
      "text/html": [
       "<div>\n",
       "<style scoped>\n",
       "    .dataframe tbody tr th:only-of-type {\n",
       "        vertical-align: middle;\n",
       "    }\n",
       "\n",
       "    .dataframe tbody tr th {\n",
       "        vertical-align: top;\n",
       "    }\n",
       "\n",
       "    .dataframe thead th {\n",
       "        text-align: right;\n",
       "    }\n",
       "</style>\n",
       "<table border=\"1\" class=\"dataframe\">\n",
       "  <thead>\n",
       "    <tr style=\"text-align: right;\">\n",
       "      <th></th>\n",
       "      <th>日期</th>\n",
       "      <th>district</th>\n",
       "      <th>street</th>\n",
       "      <th>经停病例数</th>\n",
       "      <th>患者数量</th>\n",
       "      <th>全市患者数量</th>\n",
       "      <th>所在区患者数量</th>\n",
       "      <th>邻近地区1经停病例数</th>\n",
       "      <th>邻近地区2经停病例数</th>\n",
       "      <th>邻近地区3经停病例数</th>\n",
       "      <th>封控与否</th>\n",
       "    </tr>\n",
       "  </thead>\n",
       "  <tbody>\n",
       "    <tr>\n",
       "      <th>0</th>\n",
       "      <td>2021/12/23 0:00</td>\n",
       "      <td>津南区</td>\n",
       "      <td>永胜道</td>\n",
       "      <td>31.0</td>\n",
       "      <td>0.0</td>\n",
       "      <td>0.0</td>\n",
       "      <td>0.0</td>\n",
       "      <td>1.0</td>\n",
       "      <td>0.0</td>\n",
       "      <td>0.0</td>\n",
       "      <td>0</td>\n",
       "    </tr>\n",
       "    <tr>\n",
       "      <th>1</th>\n",
       "      <td>2021/12/24 0:00</td>\n",
       "      <td>津南区</td>\n",
       "      <td>永胜道</td>\n",
       "      <td>42.0</td>\n",
       "      <td>0.0</td>\n",
       "      <td>0.0</td>\n",
       "      <td>0.0</td>\n",
       "      <td>2.0</td>\n",
       "      <td>0.0</td>\n",
       "      <td>3.0</td>\n",
       "      <td>0</td>\n",
       "    </tr>\n",
       "    <tr>\n",
       "      <th>2</th>\n",
       "      <td>2021/12/25 0:00</td>\n",
       "      <td>津南区</td>\n",
       "      <td>永胜道</td>\n",
       "      <td>36.0</td>\n",
       "      <td>0.0</td>\n",
       "      <td>0.0</td>\n",
       "      <td>0.0</td>\n",
       "      <td>2.0</td>\n",
       "      <td>0.0</td>\n",
       "      <td>4.0</td>\n",
       "      <td>0</td>\n",
       "    </tr>\n",
       "    <tr>\n",
       "      <th>3</th>\n",
       "      <td>2021/12/26 0:00</td>\n",
       "      <td>津南区</td>\n",
       "      <td>永胜道</td>\n",
       "      <td>46.0</td>\n",
       "      <td>0.0</td>\n",
       "      <td>0.0</td>\n",
       "      <td>0.0</td>\n",
       "      <td>4.0</td>\n",
       "      <td>2.0</td>\n",
       "      <td>3.0</td>\n",
       "      <td>0</td>\n",
       "    </tr>\n",
       "    <tr>\n",
       "      <th>4</th>\n",
       "      <td>2021/12/27 0:00</td>\n",
       "      <td>津南区</td>\n",
       "      <td>永胜道</td>\n",
       "      <td>73.0</td>\n",
       "      <td>0.0</td>\n",
       "      <td>0.0</td>\n",
       "      <td>0.0</td>\n",
       "      <td>4.0</td>\n",
       "      <td>2.0</td>\n",
       "      <td>2.0</td>\n",
       "      <td>0</td>\n",
       "    </tr>\n",
       "  </tbody>\n",
       "</table>\n",
       "</div>"
      ],
      "text/plain": [
       "                日期 district street  经停病例数  患者数量  全市患者数量  所在区患者数量  邻近地区1经停病例数  \\\n",
       "0  2021/12/23 0:00      津南区    永胜道   31.0   0.0     0.0      0.0         1.0   \n",
       "1  2021/12/24 0:00      津南区    永胜道   42.0   0.0     0.0      0.0         2.0   \n",
       "2  2021/12/25 0:00      津南区    永胜道   36.0   0.0     0.0      0.0         2.0   \n",
       "3  2021/12/26 0:00      津南区    永胜道   46.0   0.0     0.0      0.0         4.0   \n",
       "4  2021/12/27 0:00      津南区    永胜道   73.0   0.0     0.0      0.0         4.0   \n",
       "\n",
       "   邻近地区2经停病例数  邻近地区3经停病例数  封控与否  \n",
       "0         0.0         0.0     0  \n",
       "1         0.0         3.0     0  \n",
       "2         0.0         4.0     0  \n",
       "3         2.0         3.0     0  \n",
       "4         2.0         2.0     0  "
      ]
     },
     "execution_count": 3,
     "metadata": {},
     "output_type": "execute_result"
    }
   ],
   "source": [
    "data.head()"
   ]
  },
  {
   "cell_type": "code",
   "execution_count": 6,
   "id": "c6070831",
   "metadata": {},
   "outputs": [],
   "source": [
    "data.drop(['district', 'street'], axis=1, inplace=True)\n",
    "data.set_index('日期',inplace=True)"
   ]
  },
  {
   "cell_type": "code",
   "execution_count": 7,
   "id": "2583b7a4",
   "metadata": {
    "scrolled": false
   },
   "outputs": [
    {
     "data": {
      "text/html": [
       "<div>\n",
       "<style scoped>\n",
       "    .dataframe tbody tr th:only-of-type {\n",
       "        vertical-align: middle;\n",
       "    }\n",
       "\n",
       "    .dataframe tbody tr th {\n",
       "        vertical-align: top;\n",
       "    }\n",
       "\n",
       "    .dataframe thead th {\n",
       "        text-align: right;\n",
       "    }\n",
       "</style>\n",
       "<table border=\"1\" class=\"dataframe\">\n",
       "  <thead>\n",
       "    <tr style=\"text-align: right;\">\n",
       "      <th></th>\n",
       "      <th>经停病例数</th>\n",
       "      <th>患者数量</th>\n",
       "      <th>全市患者数量</th>\n",
       "      <th>所在区患者数量</th>\n",
       "      <th>邻近地区1经停病例数</th>\n",
       "      <th>邻近地区2经停病例数</th>\n",
       "      <th>邻近地区3经停病例数</th>\n",
       "      <th>封控与否</th>\n",
       "    </tr>\n",
       "    <tr>\n",
       "      <th>日期</th>\n",
       "      <th></th>\n",
       "      <th></th>\n",
       "      <th></th>\n",
       "      <th></th>\n",
       "      <th></th>\n",
       "      <th></th>\n",
       "      <th></th>\n",
       "      <th></th>\n",
       "    </tr>\n",
       "  </thead>\n",
       "  <tbody>\n",
       "    <tr>\n",
       "      <th>2021/12/23 0:00</th>\n",
       "      <td>31.0</td>\n",
       "      <td>0.0</td>\n",
       "      <td>0.0</td>\n",
       "      <td>0.0</td>\n",
       "      <td>1.0</td>\n",
       "      <td>0.0</td>\n",
       "      <td>0.0</td>\n",
       "      <td>0</td>\n",
       "    </tr>\n",
       "    <tr>\n",
       "      <th>2021/12/24 0:00</th>\n",
       "      <td>42.0</td>\n",
       "      <td>0.0</td>\n",
       "      <td>0.0</td>\n",
       "      <td>0.0</td>\n",
       "      <td>2.0</td>\n",
       "      <td>0.0</td>\n",
       "      <td>3.0</td>\n",
       "      <td>0</td>\n",
       "    </tr>\n",
       "    <tr>\n",
       "      <th>2021/12/25 0:00</th>\n",
       "      <td>36.0</td>\n",
       "      <td>0.0</td>\n",
       "      <td>0.0</td>\n",
       "      <td>0.0</td>\n",
       "      <td>2.0</td>\n",
       "      <td>0.0</td>\n",
       "      <td>4.0</td>\n",
       "      <td>0</td>\n",
       "    </tr>\n",
       "    <tr>\n",
       "      <th>2021/12/26 0:00</th>\n",
       "      <td>46.0</td>\n",
       "      <td>0.0</td>\n",
       "      <td>0.0</td>\n",
       "      <td>0.0</td>\n",
       "      <td>4.0</td>\n",
       "      <td>2.0</td>\n",
       "      <td>3.0</td>\n",
       "      <td>0</td>\n",
       "    </tr>\n",
       "    <tr>\n",
       "      <th>2021/12/27 0:00</th>\n",
       "      <td>73.0</td>\n",
       "      <td>0.0</td>\n",
       "      <td>0.0</td>\n",
       "      <td>0.0</td>\n",
       "      <td>4.0</td>\n",
       "      <td>2.0</td>\n",
       "      <td>2.0</td>\n",
       "      <td>0</td>\n",
       "    </tr>\n",
       "  </tbody>\n",
       "</table>\n",
       "</div>"
      ],
      "text/plain": [
       "                 经停病例数  患者数量  全市患者数量  所在区患者数量  邻近地区1经停病例数  邻近地区2经停病例数  \\\n",
       "日期                                                                      \n",
       "2021/12/23 0:00   31.0   0.0     0.0      0.0         1.0         0.0   \n",
       "2021/12/24 0:00   42.0   0.0     0.0      0.0         2.0         0.0   \n",
       "2021/12/25 0:00   36.0   0.0     0.0      0.0         2.0         0.0   \n",
       "2021/12/26 0:00   46.0   0.0     0.0      0.0         4.0         2.0   \n",
       "2021/12/27 0:00   73.0   0.0     0.0      0.0         4.0         2.0   \n",
       "\n",
       "                 邻近地区3经停病例数  封控与否  \n",
       "日期                                 \n",
       "2021/12/23 0:00         0.0     0  \n",
       "2021/12/24 0:00         3.0     0  \n",
       "2021/12/25 0:00         4.0     0  \n",
       "2021/12/26 0:00         3.0     0  \n",
       "2021/12/27 0:00         2.0     0  "
      ]
     },
     "execution_count": 7,
     "metadata": {},
     "output_type": "execute_result"
    },
    {
     "name": "stdout",
     "output_type": "stream",
     "text": [
      "<class 'pandas.core.frame.DataFrame'>\n",
      "Index: 34112 entries, 2021/12/23 0:00 to 2022/2/1 0:00\n",
      "Data columns (total 8 columns):\n",
      " #   Column      Non-Null Count  Dtype  \n",
      "---  ------      --------------  -----  \n",
      " 0   经停病例数       34112 non-null  float64\n",
      " 1   患者数量        34112 non-null  float64\n",
      " 2   全市患者数量      34112 non-null  float64\n",
      " 3   所在区患者数量     34112 non-null  float64\n",
      " 4   邻近地区1经停病例数  34112 non-null  float64\n",
      " 5   邻近地区2经停病例数  34112 non-null  float64\n",
      " 6   邻近地区3经停病例数  34112 non-null  float64\n",
      " 7   封控与否        34112 non-null  int64  \n",
      "dtypes: float64(7), int64(1)\n",
      "memory usage: 2.3+ MB\n"
     ]
    }
   ],
   "source": [
    "data.head()\n",
    "data.info()"
   ]
  },
  {
   "cell_type": "markdown",
   "id": "51389111",
   "metadata": {},
   "source": [
    "### 3. 将数据处理成LSTM的数据输入格式：[batch_size, time_step, input_size]\n",
    "在这里要注意，由于原始数据是所有street在 2021/12/23-2022/2/1 这段时间序列(length=41)的数据，不同street间的数据并没有时间上的相关性，因此需要划分为不同的样本"
   ]
  },
  {
   "cell_type": "code",
   "execution_count": 8,
   "id": "6bb5ca94",
   "metadata": {},
   "outputs": [],
   "source": [
    "length = 41  # 每个镇区数据的时间序列长度都是41\n",
    "split = int(len(data)*0.8) - int(len(data)*0.8) % length\n",
    "train = data[:split]  # 相当于拿前面的大部分镇区数据做训练集，后面的小部分镇区做测试集了\n",
    "test = data[split:]"
   ]
  },
  {
   "cell_type": "code",
   "execution_count": 9,
   "id": "1a4caebb",
   "metadata": {},
   "outputs": [
    {
     "data": {
      "text/html": [
       "<div>\n",
       "<style scoped>\n",
       "    .dataframe tbody tr th:only-of-type {\n",
       "        vertical-align: middle;\n",
       "    }\n",
       "\n",
       "    .dataframe tbody tr th {\n",
       "        vertical-align: top;\n",
       "    }\n",
       "\n",
       "    .dataframe thead th {\n",
       "        text-align: right;\n",
       "    }\n",
       "</style>\n",
       "<table border=\"1\" class=\"dataframe\">\n",
       "  <thead>\n",
       "    <tr style=\"text-align: right;\">\n",
       "      <th></th>\n",
       "      <th>经停病例数</th>\n",
       "      <th>患者数量</th>\n",
       "      <th>全市患者数量</th>\n",
       "      <th>所在区患者数量</th>\n",
       "      <th>邻近地区1经停病例数</th>\n",
       "      <th>邻近地区2经停病例数</th>\n",
       "      <th>邻近地区3经停病例数</th>\n",
       "      <th>封控与否</th>\n",
       "    </tr>\n",
       "    <tr>\n",
       "      <th>日期</th>\n",
       "      <th></th>\n",
       "      <th></th>\n",
       "      <th></th>\n",
       "      <th></th>\n",
       "      <th></th>\n",
       "      <th></th>\n",
       "      <th></th>\n",
       "      <th></th>\n",
       "    </tr>\n",
       "  </thead>\n",
       "  <tbody>\n",
       "    <tr>\n",
       "      <th>2021/12/23 0:00</th>\n",
       "      <td>31.0</td>\n",
       "      <td>0.0</td>\n",
       "      <td>0.0</td>\n",
       "      <td>0.0</td>\n",
       "      <td>1.0</td>\n",
       "      <td>0.0</td>\n",
       "      <td>0.0</td>\n",
       "      <td>0</td>\n",
       "    </tr>\n",
       "    <tr>\n",
       "      <th>2021/12/24 0:00</th>\n",
       "      <td>42.0</td>\n",
       "      <td>0.0</td>\n",
       "      <td>0.0</td>\n",
       "      <td>0.0</td>\n",
       "      <td>2.0</td>\n",
       "      <td>0.0</td>\n",
       "      <td>3.0</td>\n",
       "      <td>0</td>\n",
       "    </tr>\n",
       "    <tr>\n",
       "      <th>2021/12/25 0:00</th>\n",
       "      <td>36.0</td>\n",
       "      <td>0.0</td>\n",
       "      <td>0.0</td>\n",
       "      <td>0.0</td>\n",
       "      <td>2.0</td>\n",
       "      <td>0.0</td>\n",
       "      <td>4.0</td>\n",
       "      <td>0</td>\n",
       "    </tr>\n",
       "    <tr>\n",
       "      <th>2021/12/26 0:00</th>\n",
       "      <td>46.0</td>\n",
       "      <td>0.0</td>\n",
       "      <td>0.0</td>\n",
       "      <td>0.0</td>\n",
       "      <td>4.0</td>\n",
       "      <td>2.0</td>\n",
       "      <td>3.0</td>\n",
       "      <td>0</td>\n",
       "    </tr>\n",
       "    <tr>\n",
       "      <th>2021/12/27 0:00</th>\n",
       "      <td>73.0</td>\n",
       "      <td>0.0</td>\n",
       "      <td>0.0</td>\n",
       "      <td>0.0</td>\n",
       "      <td>4.0</td>\n",
       "      <td>2.0</td>\n",
       "      <td>2.0</td>\n",
       "      <td>0</td>\n",
       "    </tr>\n",
       "  </tbody>\n",
       "</table>\n",
       "</div>"
      ],
      "text/plain": [
       "                 经停病例数  患者数量  全市患者数量  所在区患者数量  邻近地区1经停病例数  邻近地区2经停病例数  \\\n",
       "日期                                                                      \n",
       "2021/12/23 0:00   31.0   0.0     0.0      0.0         1.0         0.0   \n",
       "2021/12/24 0:00   42.0   0.0     0.0      0.0         2.0         0.0   \n",
       "2021/12/25 0:00   36.0   0.0     0.0      0.0         2.0         0.0   \n",
       "2021/12/26 0:00   46.0   0.0     0.0      0.0         4.0         2.0   \n",
       "2021/12/27 0:00   73.0   0.0     0.0      0.0         4.0         2.0   \n",
       "\n",
       "                 邻近地区3经停病例数  封控与否  \n",
       "日期                                 \n",
       "2021/12/23 0:00         0.0     0  \n",
       "2021/12/24 0:00         3.0     0  \n",
       "2021/12/25 0:00         4.0     0  \n",
       "2021/12/26 0:00         3.0     0  \n",
       "2021/12/27 0:00         2.0     0  "
      ]
     },
     "execution_count": 9,
     "metadata": {},
     "output_type": "execute_result"
    },
    {
     "name": "stdout",
     "output_type": "stream",
     "text": [
      "<class 'pandas.core.frame.DataFrame'>\n",
      "Index: 27265 entries, 2021/12/23 0:00 to 2022/2/1 0:00\n",
      "Data columns (total 8 columns):\n",
      " #   Column      Non-Null Count  Dtype  \n",
      "---  ------      --------------  -----  \n",
      " 0   经停病例数       27265 non-null  float64\n",
      " 1   患者数量        27265 non-null  float64\n",
      " 2   全市患者数量      27265 non-null  float64\n",
      " 3   所在区患者数量     27265 non-null  float64\n",
      " 4   邻近地区1经停病例数  27265 non-null  float64\n",
      " 5   邻近地区2经停病例数  27265 non-null  float64\n",
      " 6   邻近地区3经停病例数  27265 non-null  float64\n",
      " 7   封控与否        27265 non-null  int64  \n",
      "dtypes: float64(7), int64(1)\n",
      "memory usage: 1.9+ MB\n"
     ]
    }
   ],
   "source": [
    "train.head()\n",
    "train.info()"
   ]
  },
  {
   "cell_type": "code",
   "execution_count": 10,
   "id": "a2e05322",
   "metadata": {},
   "outputs": [
    {
     "data": {
      "text/html": [
       "<div>\n",
       "<style scoped>\n",
       "    .dataframe tbody tr th:only-of-type {\n",
       "        vertical-align: middle;\n",
       "    }\n",
       "\n",
       "    .dataframe tbody tr th {\n",
       "        vertical-align: top;\n",
       "    }\n",
       "\n",
       "    .dataframe thead th {\n",
       "        text-align: right;\n",
       "    }\n",
       "</style>\n",
       "<table border=\"1\" class=\"dataframe\">\n",
       "  <thead>\n",
       "    <tr style=\"text-align: right;\">\n",
       "      <th></th>\n",
       "      <th>经停病例数</th>\n",
       "      <th>患者数量</th>\n",
       "      <th>全市患者数量</th>\n",
       "      <th>所在区患者数量</th>\n",
       "      <th>邻近地区1经停病例数</th>\n",
       "      <th>邻近地区2经停病例数</th>\n",
       "      <th>邻近地区3经停病例数</th>\n",
       "      <th>封控与否</th>\n",
       "    </tr>\n",
       "    <tr>\n",
       "      <th>日期</th>\n",
       "      <th></th>\n",
       "      <th></th>\n",
       "      <th></th>\n",
       "      <th></th>\n",
       "      <th></th>\n",
       "      <th></th>\n",
       "      <th></th>\n",
       "      <th></th>\n",
       "    </tr>\n",
       "  </thead>\n",
       "  <tbody>\n",
       "    <tr>\n",
       "      <th>2021/12/23 0:00</th>\n",
       "      <td>0.0</td>\n",
       "      <td>0.0</td>\n",
       "      <td>0.0</td>\n",
       "      <td>0.0</td>\n",
       "      <td>0.0</td>\n",
       "      <td>0.0</td>\n",
       "      <td>0.0</td>\n",
       "      <td>0</td>\n",
       "    </tr>\n",
       "    <tr>\n",
       "      <th>2021/12/24 0:00</th>\n",
       "      <td>0.0</td>\n",
       "      <td>0.0</td>\n",
       "      <td>0.0</td>\n",
       "      <td>0.0</td>\n",
       "      <td>0.0</td>\n",
       "      <td>0.0</td>\n",
       "      <td>0.0</td>\n",
       "      <td>0</td>\n",
       "    </tr>\n",
       "    <tr>\n",
       "      <th>2021/12/25 0:00</th>\n",
       "      <td>0.0</td>\n",
       "      <td>0.0</td>\n",
       "      <td>0.0</td>\n",
       "      <td>0.0</td>\n",
       "      <td>0.0</td>\n",
       "      <td>0.0</td>\n",
       "      <td>0.0</td>\n",
       "      <td>0</td>\n",
       "    </tr>\n",
       "    <tr>\n",
       "      <th>2021/12/26 0:00</th>\n",
       "      <td>1.0</td>\n",
       "      <td>0.0</td>\n",
       "      <td>0.0</td>\n",
       "      <td>0.0</td>\n",
       "      <td>0.0</td>\n",
       "      <td>0.0</td>\n",
       "      <td>0.0</td>\n",
       "      <td>0</td>\n",
       "    </tr>\n",
       "    <tr>\n",
       "      <th>2021/12/27 0:00</th>\n",
       "      <td>0.0</td>\n",
       "      <td>0.0</td>\n",
       "      <td>0.0</td>\n",
       "      <td>0.0</td>\n",
       "      <td>0.0</td>\n",
       "      <td>0.0</td>\n",
       "      <td>0.0</td>\n",
       "      <td>0</td>\n",
       "    </tr>\n",
       "  </tbody>\n",
       "</table>\n",
       "</div>"
      ],
      "text/plain": [
       "                 经停病例数  患者数量  全市患者数量  所在区患者数量  邻近地区1经停病例数  邻近地区2经停病例数  \\\n",
       "日期                                                                      \n",
       "2021/12/23 0:00    0.0   0.0     0.0      0.0         0.0         0.0   \n",
       "2021/12/24 0:00    0.0   0.0     0.0      0.0         0.0         0.0   \n",
       "2021/12/25 0:00    0.0   0.0     0.0      0.0         0.0         0.0   \n",
       "2021/12/26 0:00    1.0   0.0     0.0      0.0         0.0         0.0   \n",
       "2021/12/27 0:00    0.0   0.0     0.0      0.0         0.0         0.0   \n",
       "\n",
       "                 邻近地区3经停病例数  封控与否  \n",
       "日期                                 \n",
       "2021/12/23 0:00         0.0     0  \n",
       "2021/12/24 0:00         0.0     0  \n",
       "2021/12/25 0:00         0.0     0  \n",
       "2021/12/26 0:00         0.0     0  \n",
       "2021/12/27 0:00         0.0     0  "
      ]
     },
     "execution_count": 10,
     "metadata": {},
     "output_type": "execute_result"
    },
    {
     "name": "stdout",
     "output_type": "stream",
     "text": [
      "<class 'pandas.core.frame.DataFrame'>\n",
      "Index: 6847 entries, 2021/12/23 0:00 to 2022/2/1 0:00\n",
      "Data columns (total 8 columns):\n",
      " #   Column      Non-Null Count  Dtype  \n",
      "---  ------      --------------  -----  \n",
      " 0   经停病例数       6847 non-null   float64\n",
      " 1   患者数量        6847 non-null   float64\n",
      " 2   全市患者数量      6847 non-null   float64\n",
      " 3   所在区患者数量     6847 non-null   float64\n",
      " 4   邻近地区1经停病例数  6847 non-null   float64\n",
      " 5   邻近地区2经停病例数  6847 non-null   float64\n",
      " 6   邻近地区3经停病例数  6847 non-null   float64\n",
      " 7   封控与否        6847 non-null   int64  \n",
      "dtypes: float64(7), int64(1)\n",
      "memory usage: 481.4+ KB\n"
     ]
    }
   ],
   "source": [
    "test.head()\n",
    "test.info()"
   ]
  },
  {
   "cell_type": "code",
   "execution_count": 13,
   "id": "000db274",
   "metadata": {},
   "outputs": [],
   "source": [
    "scaler = MinMaxScaler(feature_range=(0,1))\n",
    "train = scaler.fit_transform(train)\n",
    "test = scaler.transform(test)"
   ]
  },
  {
   "cell_type": "code",
   "execution_count": 14,
   "id": "c9a80910",
   "metadata": {},
   "outputs": [
    {
     "data": {
      "text/plain": [
       "array([[0.31 , 0.   , 0.   , 0.   , 0.   ],\n",
       "       [0.42 , 0.   , 0.   , 0.   , 0.   ],\n",
       "       [0.36 , 0.   , 0.   , 0.   , 0.   ],\n",
       "       ...,\n",
       "       [0.   , 0.   , 0.148, 0.   , 0.   ],\n",
       "       [0.   , 0.   , 0.148, 0.   , 0.   ],\n",
       "       [0.   , 0.   , 0.252, 0.   , 0.   ]])"
      ]
     },
     "execution_count": 14,
     "metadata": {},
     "output_type": "execute_result"
    },
    {
     "data": {
      "text/plain": [
       "(27265, 5)"
      ]
     },
     "execution_count": 14,
     "metadata": {},
     "output_type": "execute_result"
    }
   ],
   "source": [
    "train\n",
    "train.shape"
   ]
  },
  {
   "cell_type": "code",
   "execution_count": 15,
   "id": "cd65ac20",
   "metadata": {
    "scrolled": false
   },
   "outputs": [
    {
     "data": {
      "text/plain": [
       "array([[0.        , 0.        , 0.        , 0.        , 0.        ],\n",
       "       [0.        , 0.        , 0.        , 0.        , 0.        ],\n",
       "       [0.        , 0.        , 0.        , 0.        , 0.        ],\n",
       "       ...,\n",
       "       [0.        , 0.        , 0.148     , 0.00858369, 0.        ],\n",
       "       [0.        , 0.        , 0.148     , 0.00858369, 0.        ],\n",
       "       [0.        , 0.        , 0.252     , 0.01716738, 0.        ]])"
      ]
     },
     "execution_count": 15,
     "metadata": {},
     "output_type": "execute_result"
    },
    {
     "data": {
      "text/plain": [
       "(6847, 5)"
      ]
     },
     "execution_count": 15,
     "metadata": {},
     "output_type": "execute_result"
    }
   ],
   "source": [
    "test\n",
    "test.shape"
   ]
  },
  {
   "cell_type": "code",
   "execution_count": 16,
   "id": "27a75e82",
   "metadata": {},
   "outputs": [],
   "source": [
    "def createXY(data, time_step):\n",
    "    \"\"\"\n",
    "    将数据转化为LSTM数据输入格式: [batch_size, time_step, input_size]\n",
    "    data: 数据\n",
    "    time_step: 每条数据是time_step天作为一个整体去做预测\n",
    "    \"\"\"\n",
    "    X, Y = [], []\n",
    "    length = 41 # 一个镇区时间序列长度是41\n",
    "    n = int(len(data) / length) # 其实就是总共有n个镇区的数据，镇区之间的数据不能连起来做一个样本\n",
    "#     print(n)\n",
    "    for i in range(n):\n",
    "        offset = i * length       \n",
    "        for j in range(time_step, length):\n",
    "            X.append(data[j - time_step + offset:j + offset, :-1])\n",
    "            Y.append(data[j + offset, -1]) # 最后一列是label Y，即封控与否\n",
    "    return np.array(X), np.array(Y)"
   ]
  },
  {
   "cell_type": "code",
   "execution_count": 17,
   "id": "3783dd0c",
   "metadata": {},
   "outputs": [],
   "source": [
    "train_X, train_Y=createXY(train, 7) # 取time_step为7，即拿前7天的数据去推后1天的数据\n",
    "test_X, test_Y=createXY(test, 7)"
   ]
  },
  {
   "cell_type": "code",
   "execution_count": 18,
   "id": "61206268",
   "metadata": {},
   "outputs": [
    {
     "data": {
      "text/plain": [
       "array([[[0.31 , 0.   , 0.   , 0.   ],\n",
       "        [0.42 , 0.   , 0.   , 0.   ],\n",
       "        [0.36 , 0.   , 0.   , 0.   ],\n",
       "        ...,\n",
       "        [0.73 , 0.   , 0.   , 0.   ],\n",
       "        [0.76 , 0.   , 0.   , 0.   ],\n",
       "        [0.71 , 0.   , 0.   , 0.   ]],\n",
       "\n",
       "       [[0.42 , 0.   , 0.   , 0.   ],\n",
       "        [0.36 , 0.   , 0.   , 0.   ],\n",
       "        [0.46 , 0.   , 0.   , 0.   ],\n",
       "        ...,\n",
       "        [0.76 , 0.   , 0.   , 0.   ],\n",
       "        [0.71 , 0.   , 0.   , 0.   ],\n",
       "        [0.72 , 0.   , 0.   , 0.   ]],\n",
       "\n",
       "       [[0.36 , 0.   , 0.   , 0.   ],\n",
       "        [0.46 , 0.   , 0.   , 0.   ],\n",
       "        [0.73 , 0.   , 0.   , 0.   ],\n",
       "        ...,\n",
       "        [0.71 , 0.   , 0.   , 0.   ],\n",
       "        [0.72 , 0.   , 0.   , 0.   ],\n",
       "        [0.68 , 0.   , 0.   , 0.   ]],\n",
       "\n",
       "       ...,\n",
       "\n",
       "       [[0.   , 0.   , 0.216, 0.   ],\n",
       "        [0.01 , 0.   , 0.132, 0.   ],\n",
       "        [0.04 , 0.   , 0.104, 0.   ],\n",
       "        ...,\n",
       "        [0.05 , 0.   , 0.02 , 0.   ],\n",
       "        [0.07 , 0.   , 0.044, 0.   ],\n",
       "        [0.04 , 0.   , 0.084, 0.   ]],\n",
       "\n",
       "       [[0.01 , 0.   , 0.132, 0.   ],\n",
       "        [0.04 , 0.   , 0.104, 0.   ],\n",
       "        [0.11 , 0.   , 0.02 , 0.   ],\n",
       "        ...,\n",
       "        [0.07 , 0.   , 0.044, 0.   ],\n",
       "        [0.04 , 0.   , 0.084, 0.   ],\n",
       "        [0.   , 0.   , 0.148, 0.   ]],\n",
       "\n",
       "       [[0.04 , 0.   , 0.104, 0.   ],\n",
       "        [0.11 , 0.   , 0.02 , 0.   ],\n",
       "        [0.05 , 0.   , 0.02 , 0.   ],\n",
       "        ...,\n",
       "        [0.04 , 0.   , 0.084, 0.   ],\n",
       "        [0.   , 0.   , 0.148, 0.   ],\n",
       "        [0.   , 0.   , 0.148, 0.   ]]])"
      ]
     },
     "execution_count": 18,
     "metadata": {},
     "output_type": "execute_result"
    },
    {
     "data": {
      "text/plain": [
       "(22610, 7, 4)"
      ]
     },
     "execution_count": 18,
     "metadata": {},
     "output_type": "execute_result"
    }
   ],
   "source": [
    "train_X\n",
    "train_X.shape"
   ]
  },
  {
   "cell_type": "code",
   "execution_count": 19,
   "id": "9129d6c5",
   "metadata": {},
   "outputs": [
    {
     "data": {
      "text/plain": [
       "array([0., 0., 0., ..., 0., 0., 0.])"
      ]
     },
     "execution_count": 19,
     "metadata": {},
     "output_type": "execute_result"
    },
    {
     "data": {
      "text/plain": [
       "(22610,)"
      ]
     },
     "execution_count": 19,
     "metadata": {},
     "output_type": "execute_result"
    }
   ],
   "source": [
    "train_Y\n",
    "train_Y.shape"
   ]
  },
  {
   "cell_type": "code",
   "execution_count": 21,
   "id": "d0b3dcdf",
   "metadata": {},
   "outputs": [
    {
     "name": "stderr",
     "output_type": "stream",
     "text": [
      "C:\\Users\\new\\AppData\\Local\\Temp\\ipykernel_40228\\1945314889.py:10: DeprecationWarning: KerasClassifier is deprecated, use Sci-Keras (https://github.com/adriangb/scikeras) instead. See https://www.adriangb.com/scikeras/stable/migration.html for help migrating.\n",
      "  grid_model = KerasClassifier(build_fn=build_model,verbose=1,validation_data=(test_X,test_Y))\n"
     ]
    }
   ],
   "source": [
    "def build_model(optimizer):\n",
    "    grid_model = Sequential()\n",
    "    grid_model.add(LSTM(50,return_sequences=True,input_shape=(7,4)))\n",
    "    grid_model.add(LSTM(50))\n",
    "    grid_model.add(Dropout(0.2))\n",
    "    grid_model.add(Dense(1))\n",
    "    grid_model.compile(loss = 'mse', optimizer = optimizer)\n",
    "    return grid_model\n",
    "\n",
    "grid_model = KerasClassifier(build_fn=build_model,verbose=1,validation_data=(test_X,test_Y))\n",
    "\n",
    "parameters = {'batch_size' : [4],\n",
    "              'epochs' : [8, 10],\n",
    "              'optimizer' : ['Adadelta'] }\n",
    "\n",
    "grid_search  = GridSearchCV(estimator=grid_model, param_grid=parameters, cv = 3)"
   ]
  },
  {
   "cell_type": "code",
   "execution_count": 22,
   "id": "f2bd1c8b",
   "metadata": {},
   "outputs": [
    {
     "name": "stdout",
     "output_type": "stream",
     "text": [
      "Epoch 1/8\n",
      "3769/3769 [==============================] - 51s 12ms/step - loss: 4.3971e-04 - val_loss: 2.4221e-04\n",
      "Epoch 2/8\n",
      "3769/3769 [==============================] - 45s 12ms/step - loss: 3.3965e-04 - val_loss: 1.7367e-04\n",
      "Epoch 3/8\n",
      "3769/3769 [==============================] - 45s 12ms/step - loss: 2.8670e-04 - val_loss: 1.2935e-04\n",
      "Epoch 4/8\n",
      "3769/3769 [==============================] - 45s 12ms/step - loss: 2.5490e-04 - val_loss: 9.7301e-05\n",
      "Epoch 5/8\n",
      "3769/3769 [==============================] - 48s 13ms/step - loss: 2.2212e-04 - val_loss: 7.5190e-05\n",
      "Epoch 6/8\n",
      "3769/3769 [==============================] - 48s 13ms/step - loss: 1.9214e-04 - val_loss: 5.8755e-05\n",
      "Epoch 7/8\n",
      "3769/3769 [==============================] - 50s 13ms/step - loss: 1.7785e-04 - val_loss: 4.6251e-05\n",
      "Epoch 8/8\n",
      "3769/3769 [==============================] - 45s 12ms/step - loss: 1.6913e-04 - val_loss: 3.6266e-05\n",
      "1885/1885 [==============================] - 11s 5ms/step - loss: 0.0115\n"
     ]
    },
    {
     "name": "stderr",
     "output_type": "stream",
     "text": [
      "C:\\ProgramData\\Anaconda3\\lib\\site-packages\\sklearn\\model_selection\\_validation.py:776: UserWarning: Scoring failed. The score on this train-test partition for these parameters will be set to nan. Details: \n",
      "Traceback (most recent call last):\n",
      "  File \"C:\\ProgramData\\Anaconda3\\lib\\site-packages\\sklearn\\model_selection\\_validation.py\", line 767, in _score\n",
      "    scores = scorer(estimator, X_test, y_test)\n",
      "  File \"C:\\ProgramData\\Anaconda3\\lib\\site-packages\\sklearn\\metrics\\_scorer.py\", line 429, in _passthrough_scorer\n",
      "    return estimator.score(*args, **kwargs)\n",
      "  File \"C:\\ProgramData\\Anaconda3\\lib\\site-packages\\keras\\wrappers\\scikit_learn.py\", line 323, in score\n",
      "    raise ValueError('The model is not configured to compute accuracy. '\n",
      "ValueError: The model is not configured to compute accuracy. You should pass `metrics=[\"accuracy\"]` to the `model.compile()` method.\n",
      "\n",
      "  warnings.warn(\n"
     ]
    },
    {
     "name": "stdout",
     "output_type": "stream",
     "text": [
      "Epoch 1/8\n",
      "3769/3769 [==============================] - 52s 13ms/step - loss: 0.0062 - val_loss: 8.1685e-05\n",
      "Epoch 2/8\n",
      "3769/3769 [==============================] - 49s 13ms/step - loss: 0.0060 - val_loss: 5.3363e-05\n",
      "Epoch 3/8\n",
      "3769/3769 [==============================] - 49s 13ms/step - loss: 0.0059 - val_loss: 4.4399e-05\n",
      "Epoch 4/8\n",
      "3769/3769 [==============================] - 49s 13ms/step - loss: 0.0059 - val_loss: 3.7009e-05\n",
      "Epoch 5/8\n",
      "3769/3769 [==============================] - 48s 13ms/step - loss: 0.0059 - val_loss: 3.0039e-05\n",
      "Epoch 6/8\n",
      "3769/3769 [==============================] - 50s 13ms/step - loss: 0.0059 - val_loss: 2.7897e-05\n",
      "Epoch 7/8\n",
      "3769/3769 [==============================] - 49s 13ms/step - loss: 0.0058 - val_loss: 2.6417e-05\n",
      "Epoch 8/8\n",
      "3769/3769 [==============================] - 47s 12ms/step - loss: 0.0059 - val_loss: 2.4477e-05\n",
      "1885/1885 [==============================] - 12s 6ms/step - loss: 2.5304e-05\n",
      "Epoch 1/8\n",
      "3769/3769 [==============================] - 53s 13ms/step - loss: 0.0060 - val_loss: 1.9115e-04\n",
      "Epoch 2/8\n",
      "3769/3769 [==============================] - 46s 12ms/step - loss: 0.0058 - val_loss: 9.4607e-05\n",
      "Epoch 3/8\n",
      "3769/3769 [==============================] - 46s 12ms/step - loss: 0.0058 - val_loss: 5.9740e-05\n",
      "Epoch 4/8\n",
      "3769/3769 [==============================] - 45s 12ms/step - loss: 0.0058 - val_loss: 4.0192e-05\n",
      "Epoch 5/8\n",
      "3769/3769 [==============================] - 46s 12ms/step - loss: 0.0057 - val_loss: 3.0184e-05\n",
      "Epoch 6/8\n",
      "3769/3769 [==============================] - 45s 12ms/step - loss: 0.0058 - val_loss: 2.4136e-05\n",
      "Epoch 7/8\n",
      "3769/3769 [==============================] - 47s 12ms/step - loss: 0.0057 - val_loss: 1.9231e-05\n",
      "Epoch 8/8\n",
      "3769/3769 [==============================] - 45s 12ms/step - loss: 0.0057 - val_loss: 1.6340e-05\n",
      "1884/1884 [==============================] - 10s 5ms/step - loss: 1.4091e-05\n",
      "Epoch 1/10\n",
      "3769/3769 [==============================] - 49s 12ms/step - loss: 8.1946e-04 - val_loss: 3.8081e-04\n",
      "Epoch 2/10\n",
      "3769/3769 [==============================] - 46s 12ms/step - loss: 3.7541e-04 - val_loss: 2.0671e-04\n",
      "Epoch 3/10\n",
      "3769/3769 [==============================] - 46s 12ms/step - loss: 2.3987e-04 - val_loss: 1.1550e-04\n",
      "Epoch 4/10\n",
      "3769/3769 [==============================] - 45s 12ms/step - loss: 1.6507e-04 - val_loss: 6.7436e-05\n",
      "Epoch 5/10\n",
      "3769/3769 [==============================] - 46s 12ms/step - loss: 1.2532e-04 - val_loss: 4.2604e-05\n",
      "Epoch 6/10\n",
      "3769/3769 [==============================] - 47s 12ms/step - loss: 1.0563e-04 - val_loss: 2.8638e-05\n",
      "Epoch 7/10\n",
      "3769/3769 [==============================] - 48s 13ms/step - loss: 9.2357e-05 - val_loss: 2.0537e-05\n",
      "Epoch 8/10\n",
      "3769/3769 [==============================] - 48s 13ms/step - loss: 8.5255e-05 - val_loss: 1.5515e-05\n",
      "Epoch 9/10\n",
      "3769/3769 [==============================] - 48s 13ms/step - loss: 7.4636e-05 - val_loss: 1.2100e-05\n",
      "Epoch 10/10\n",
      "3769/3769 [==============================] - 47s 13ms/step - loss: 6.8192e-05 - val_loss: 9.8321e-06\n",
      "1885/1885 [==============================] - 11s 5ms/step - loss: 0.0112\n",
      "Epoch 1/10\n",
      "3769/3769 [==============================] - 49s 12ms/step - loss: 0.0062 - val_loss: 8.5773e-05\n",
      "Epoch 2/10\n",
      "3769/3769 [==============================] - 45s 12ms/step - loss: 0.0059 - val_loss: 4.1952e-05\n",
      "Epoch 3/10\n",
      "3769/3769 [==============================] - 45s 12ms/step - loss: 0.0058 - val_loss: 2.8890e-05\n",
      "Epoch 4/10\n",
      "3769/3769 [==============================] - 45s 12ms/step - loss: 0.0059 - val_loss: 2.1935e-05\n",
      "Epoch 5/10\n",
      "3769/3769 [==============================] - 45s 12ms/step - loss: 0.0058 - val_loss: 1.7522e-05\n",
      "Epoch 6/10\n",
      "3769/3769 [==============================] - 45s 12ms/step - loss: 0.0058 - val_loss: 1.3102e-05\n",
      "Epoch 7/10\n",
      "3769/3769 [==============================] - 45s 12ms/step - loss: 0.0058 - val_loss: 1.1677e-05\n",
      "Epoch 8/10\n",
      "3769/3769 [==============================] - 45s 12ms/step - loss: 0.0058 - val_loss: 1.1882e-05\n",
      "Epoch 9/10\n",
      "3769/3769 [==============================] - 45s 12ms/step - loss: 0.0057 - val_loss: 1.1896e-05\n",
      "Epoch 10/10\n",
      "3769/3769 [==============================] - 45s 12ms/step - loss: 0.0058 - val_loss: 1.2443e-05\n",
      "1885/1885 [==============================] - 11s 5ms/step - loss: 1.1391e-05\n",
      "Epoch 1/10\n",
      "3769/3769 [==============================] - 48s 12ms/step - loss: 0.0077 - val_loss: 0.0013\n",
      "Epoch 2/10\n",
      "3769/3769 [==============================] - 45s 12ms/step - loss: 0.0066 - val_loss: 6.1263e-04\n",
      "Epoch 3/10\n",
      "3769/3769 [==============================] - 45s 12ms/step - loss: 0.0063 - val_loss: 3.8300e-04\n",
      "Epoch 4/10\n",
      "3769/3769 [==============================] - 45s 12ms/step - loss: 0.0061 - val_loss: 2.6174e-04\n",
      "Epoch 5/10\n",
      "3769/3769 [==============================] - 45s 12ms/step - loss: 0.0061 - val_loss: 1.8629e-04\n",
      "Epoch 6/10\n",
      "3769/3769 [==============================] - 45s 12ms/step - loss: 0.0061 - val_loss: 1.3436e-04\n",
      "Epoch 7/10\n",
      "3769/3769 [==============================] - 44s 12ms/step - loss: 0.0060 - val_loss: 1.0180e-04\n",
      "Epoch 8/10\n",
      "3769/3769 [==============================] - 45s 12ms/step - loss: 0.0060 - val_loss: 7.8618e-05\n",
      "Epoch 9/10\n",
      "3769/3769 [==============================] - 46s 12ms/step - loss: 0.0059 - val_loss: 6.2154e-05\n",
      "Epoch 10/10\n",
      "3769/3769 [==============================] - 45s 12ms/step - loss: 0.0059 - val_loss: 4.9405e-05\n",
      "1884/1884 [==============================] - 11s 5ms/step - loss: 4.9445e-05\n"
     ]
    },
    {
     "name": "stderr",
     "output_type": "stream",
     "text": [
      "C:\\ProgramData\\Anaconda3\\lib\\site-packages\\sklearn\\model_selection\\_search.py:953: UserWarning: One or more of the test scores are non-finite: [nan nan]\n",
      "  warnings.warn(\n"
     ]
    },
    {
     "name": "stdout",
     "output_type": "stream",
     "text": [
      "Epoch 1/8\n",
      "5653/5653 [==============================] - 68s 12ms/step - loss: 0.0040 - val_loss: 1.6132e-04\n",
      "Epoch 2/8\n",
      "5653/5653 [==============================] - 65s 11ms/step - loss: 0.0040 - val_loss: 1.1405e-04\n",
      "Epoch 3/8\n",
      "5653/5653 [==============================] - 64s 11ms/step - loss: 0.0040 - val_loss: 8.4475e-05\n",
      "Epoch 4/8\n",
      "5653/5653 [==============================] - 64s 11ms/step - loss: 0.0039 - val_loss: 6.7803e-05\n",
      "Epoch 5/8\n",
      "5653/5653 [==============================] - 64s 11ms/step - loss: 0.0039 - val_loss: 5.5763e-05\n",
      "Epoch 6/8\n",
      "5653/5653 [==============================] - 68s 12ms/step - loss: 0.0039 - val_loss: 4.6209e-05\n",
      "Epoch 7/8\n",
      "5653/5653 [==============================] - 66s 12ms/step - loss: 0.0039 - val_loss: 3.8686e-05\n",
      "Epoch 8/8\n",
      "5653/5653 [==============================] - 65s 11ms/step - loss: 0.0039 - val_loss: 3.3520e-05\n"
     ]
    }
   ],
   "source": [
    "grid_search = grid_search.fit(train_X,train_Y)"
   ]
  },
  {
   "cell_type": "code",
   "execution_count": 23,
   "id": "0a714d1f",
   "metadata": {},
   "outputs": [
    {
     "data": {
      "text/plain": [
       "{'batch_size': 4, 'epochs': 8, 'optimizer': 'Adadelta'}"
      ]
     },
     "execution_count": 23,
     "metadata": {},
     "output_type": "execute_result"
    }
   ],
   "source": [
    "grid_search.best_params_"
   ]
  },
  {
   "cell_type": "code",
   "execution_count": 24,
   "id": "81fdbecc",
   "metadata": {},
   "outputs": [],
   "source": [
    "my_model = grid_search.best_estimator_.model"
   ]
  },
  {
   "cell_type": "code",
   "execution_count": 25,
   "id": "ae842753",
   "metadata": {},
   "outputs": [
    {
     "name": "stdout",
     "output_type": "stream",
     "text": [
      "178/178 [==============================] - 1s 4ms/step\n",
      "prediction\n",
      " [[ 0.00039353]\n",
      " [ 0.00037467]\n",
      " [ 0.00035569]\n",
      " ...\n",
      " [-0.00043297]\n",
      " [ 0.00025874]\n",
      " [ 0.00076367]]\n",
      "\n",
      "Prediction Shape- (5678, 1)\n"
     ]
    }
   ],
   "source": [
    "prediction=my_model.predict(test_X)\n",
    "print(\"prediction\\n\", prediction)\n",
    "print(\"\\nPrediction Shape-\",prediction.shape)"
   ]
  },
  {
   "cell_type": "code",
   "execution_count": 26,
   "id": "18275acc",
   "metadata": {},
   "outputs": [
    {
     "data": {
      "text/plain": [
       "(5678,)"
      ]
     },
     "execution_count": 26,
     "metadata": {},
     "output_type": "execute_result"
    }
   ],
   "source": [
    "test_Y.shape"
   ]
  },
  {
   "cell_type": "code",
   "execution_count": 27,
   "id": "c3f7877a",
   "metadata": {},
   "outputs": [
    {
     "data": {
      "text/plain": [
       "(5678, 1)"
      ]
     },
     "execution_count": 27,
     "metadata": {},
     "output_type": "execute_result"
    }
   ],
   "source": [
    "prediction.shape"
   ]
  },
  {
   "cell_type": "code",
   "execution_count": 32,
   "id": "8a118956",
   "metadata": {},
   "outputs": [
    {
     "data": {
      "text/plain": [
       "[<matplotlib.lines.Line2D at 0x181d523ee50>]"
      ]
     },
     "execution_count": 32,
     "metadata": {},
     "output_type": "execute_result"
    },
    {
     "data": {
      "text/plain": [
       "[<matplotlib.lines.Line2D at 0x181d52231f0>]"
      ]
     },
     "execution_count": 32,
     "metadata": {},
     "output_type": "execute_result"
    },
    {
     "data": {
      "text/plain": [
       "Text(0.5, 1.0, 'Containment events Prediction')"
      ]
     },
     "execution_count": 32,
     "metadata": {},
     "output_type": "execute_result"
    },
    {
     "data": {
      "text/plain": [
       "Text(0.5, 0, 'Time')"
      ]
     },
     "execution_count": 32,
     "metadata": {},
     "output_type": "execute_result"
    },
    {
     "data": {
      "text/plain": [
       "Text(0, 0.5, 'Possibility of Containment')"
      ]
     },
     "execution_count": 32,
     "metadata": {},
     "output_type": "execute_result"
    },
    {
     "data": {
      "text/plain": [
       "<matplotlib.legend.Legend at 0x181d5220df0>"
      ]
     },
     "execution_count": 32,
     "metadata": {},
     "output_type": "execute_result"
    },
    {
     "data": {
      "image/png": "[encoded data removed]",
      "text/plain": [
       "<Figure size 640x480 with 1 Axes>"
      ]
     },
     "metadata": {},
     "output_type": "display_data"
    }
   ],
   "source": [
    "plt.plot(prediction, color = 'yellow', label = 'Predicted Y Label')\n",
    "plt.plot(test_Y, color = 'red', label = 'Real Y Label')\n",
    "plt.title('Containment events Prediction')\n",
    "plt.xlabel('Time')\n",
    "plt.ylabel('Possibility of Containment')\n",
    "plt.legend()\n",
    "plt.show()"
   ]
  },
  {
   "cell_type": "code",
   "execution_count": null,
   "id": "1e69b0ba",
   "metadata": {},
   "outputs": [],
   "source": []
  }
 ],
 "metadata": {
  "kernelspec": {
   "display_name": "Python 3 (ipykernel)",
   "language": "python",
   "name": "python3"
  },
  "language_info": {
   "codemirror_mode": {
    "name": "ipython",
    "version": 3
   },
   "file_extension": ".py",
   "mimetype": "text/x-python",
   "name": "python",
   "nbconvert_exporter": "python",
   "pygments_lexer": "ipython3",
   "version": "3.9.13"
  }
 },
 "nbformat": 4,
 "nbformat_minor": 5
}
