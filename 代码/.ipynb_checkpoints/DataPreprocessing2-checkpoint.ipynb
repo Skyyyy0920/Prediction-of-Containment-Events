{
 "cells": [
  {
   "cell_type": "markdown",
   "id": "ef112b48",
   "metadata": {},
   "source": [
    "# 新增全市患者数量作为输入变量\n",
    "借助各个township的患者数量求和实现"
   ]
  },
  {
   "cell_type": "code",
   "execution_count": 1,
   "id": "2208d12c",
   "metadata": {},
   "outputs": [],
   "source": [
    "import pandas as pd\n",
    "from datetime import datetime, timedelta\n",
    "import numpy as np"
   ]
  },
  {
   "cell_type": "code",
   "execution_count": 2,
   "id": "32ecd422",
   "metadata": {},
   "outputs": [],
   "source": [
    "path = 'C:/Users/new/Desktop/疫情演化系统/数据/Patient_Geocoding.csv'\n",
    "data = pd.read_csv(path)"
   ]
  },
  {
   "cell_type": "code",
   "execution_count": 3,
   "id": "da6c42f8",
   "metadata": {},
   "outputs": [],
   "source": [
    "data.drop(['来源1','来源2'], axis=1, inplace=True)"
   ]
  },
  {
   "cell_type": "code",
   "execution_count": 4,
   "id": "e610acfe",
   "metadata": {},
   "outputs": [
    {
     "data": {
      "text/html": [
       "<div>\n",
       "<style scoped>\n",
       "    .dataframe tbody tr th:only-of-type {\n",
       "        vertical-align: middle;\n",
       "    }\n",
       "\n",
       "    .dataframe tbody tr th {\n",
       "        vertical-align: top;\n",
       "    }\n",
       "\n",
       "    .dataframe thead th {\n",
       "        text-align: right;\n",
       "    }\n",
       "</style>\n",
       "<table border=\"1\" class=\"dataframe\">\n",
       "  <thead>\n",
       "    <tr style=\"text-align: right;\">\n",
       "      <th></th>\n",
       "      <th>患者序号</th>\n",
       "      <th>性别</th>\n",
       "      <th>年龄</th>\n",
       "      <th>职业</th>\n",
       "      <th>家庭住址</th>\n",
       "      <th>分型</th>\n",
       "      <th>完整地址</th>\n",
       "      <th>所在区</th>\n",
       "      <th>街道</th>\n",
       "      <th>township</th>\n",
       "      <th>经度</th>\n",
       "      <th>纬度</th>\n",
       "    </tr>\n",
       "  </thead>\n",
       "  <tbody>\n",
       "    <tr>\n",
       "      <th>0</th>\n",
       "      <td>1</td>\n",
       "      <td>女</td>\n",
       "      <td>29</td>\n",
       "      <td>托辅机构工作人员</td>\n",
       "      <td>南开区华苑新城</td>\n",
       "      <td>轻型</td>\n",
       "      <td>天津市南开区华苑街道华苑新城</td>\n",
       "      <td>南开区</td>\n",
       "      <td>华苑路</td>\n",
       "      <td>华苑街道</td>\n",
       "      <td>117.143640</td>\n",
       "      <td>39.075703</td>\n",
       "    </tr>\n",
       "    <tr>\n",
       "      <th>1</th>\n",
       "      <td>2</td>\n",
       "      <td>女</td>\n",
       "      <td>10</td>\n",
       "      <td>咸水沽第七小学学生</td>\n",
       "      <td>津南区咸水沽镇</td>\n",
       "      <td>轻型</td>\n",
       "      <td>天津市津南区咸水沽镇咸水沽镇咸水沽镇人民政府</td>\n",
       "      <td>津南区</td>\n",
       "      <td>丰收路</td>\n",
       "      <td>咸水沽镇</td>\n",
       "      <td>117.395242</td>\n",
       "      <td>38.979148</td>\n",
       "    </tr>\n",
       "    <tr>\n",
       "      <th>2</th>\n",
       "      <td>3</td>\n",
       "      <td>男</td>\n",
       "      <td>10</td>\n",
       "      <td>咸水沽第七小学学生</td>\n",
       "      <td>津南区北闸口镇</td>\n",
       "      <td>轻型</td>\n",
       "      <td>天津市津南区北闸口镇政安里北闸口镇人民政府</td>\n",
       "      <td>津南区</td>\n",
       "      <td>北营路</td>\n",
       "      <td>北闸口镇</td>\n",
       "      <td>117.406017</td>\n",
       "      <td>38.950556</td>\n",
       "    </tr>\n",
       "    <tr>\n",
       "      <th>3</th>\n",
       "      <td>4</td>\n",
       "      <td>男</td>\n",
       "      <td>12</td>\n",
       "      <td>辛庄中学学生</td>\n",
       "      <td>津南区辛庄镇</td>\n",
       "      <td>轻型</td>\n",
       "      <td>天津市津南区辛庄镇龙汇公寓辛庄镇人民政府</td>\n",
       "      <td>津南区</td>\n",
       "      <td>平凡道</td>\n",
       "      <td>辛庄镇</td>\n",
       "      <td>117.350345</td>\n",
       "      <td>39.026690</td>\n",
       "    </tr>\n",
       "    <tr>\n",
       "      <th>4</th>\n",
       "      <td>5</td>\n",
       "      <td>男</td>\n",
       "      <td>13</td>\n",
       "      <td>辛庄中学学生</td>\n",
       "      <td>津南区辛庄镇</td>\n",
       "      <td>轻型</td>\n",
       "      <td>天津市津南区辛庄镇龙汇公寓辛庄镇人民政府</td>\n",
       "      <td>津南区</td>\n",
       "      <td>平凡道</td>\n",
       "      <td>辛庄镇</td>\n",
       "      <td>117.350345</td>\n",
       "      <td>39.026690</td>\n",
       "    </tr>\n",
       "  </tbody>\n",
       "</table>\n",
       "</div>"
      ],
      "text/plain": [
       "   患者序号 性别  年龄         职业     家庭住址  分型                    完整地址  所在区   街道  \\\n",
       "0     1  女  29   托辅机构工作人员  南开区华苑新城  轻型          天津市南开区华苑街道华苑新城  南开区  华苑路   \n",
       "1     2  女  10  咸水沽第七小学学生  津南区咸水沽镇  轻型  天津市津南区咸水沽镇咸水沽镇咸水沽镇人民政府  津南区  丰收路   \n",
       "2     3  男  10  咸水沽第七小学学生  津南区北闸口镇  轻型   天津市津南区北闸口镇政安里北闸口镇人民政府  津南区  北营路   \n",
       "3     4  男  12     辛庄中学学生   津南区辛庄镇  轻型    天津市津南区辛庄镇龙汇公寓辛庄镇人民政府  津南区  平凡道   \n",
       "4     5  男  13     辛庄中学学生   津南区辛庄镇  轻型    天津市津南区辛庄镇龙汇公寓辛庄镇人民政府  津南区  平凡道   \n",
       "\n",
       "  township          经度         纬度  \n",
       "0     华苑街道  117.143640  39.075703  \n",
       "1     咸水沽镇  117.395242  38.979148  \n",
       "2     北闸口镇  117.406017  38.950556  \n",
       "3      辛庄镇  117.350345  39.026690  \n",
       "4      辛庄镇  117.350345  39.026690  "
      ]
     },
     "execution_count": 4,
     "metadata": {},
     "output_type": "execute_result"
    }
   ],
   "source": [
    "data.head()"
   ]
  },
  {
   "cell_type": "code",
   "execution_count": 5,
   "id": "e79ba0d5",
   "metadata": {},
   "outputs": [],
   "source": [
    "path = 'C:/Users/new/Desktop/疫情演化系统/数据/train_township.csv'\n",
    "train = pd.read_csv(path)"
   ]
  },
  {
   "cell_type": "code",
   "execution_count": 6,
   "id": "9a294134",
   "metadata": {
    "scrolled": false
   },
   "outputs": [
    {
     "data": {
      "text/html": [
       "<div>\n",
       "<style scoped>\n",
       "    .dataframe tbody tr th:only-of-type {\n",
       "        vertical-align: middle;\n",
       "    }\n",
       "\n",
       "    .dataframe tbody tr th {\n",
       "        vertical-align: top;\n",
       "    }\n",
       "\n",
       "    .dataframe thead th {\n",
       "        text-align: right;\n",
       "    }\n",
       "</style>\n",
       "<table border=\"1\" class=\"dataframe\">\n",
       "  <thead>\n",
       "    <tr style=\"text-align: right;\">\n",
       "      <th></th>\n",
       "      <th>日期</th>\n",
       "      <th>镇区</th>\n",
       "      <th>经停病例数</th>\n",
       "      <th>患者数量</th>\n",
       "      <th>经度</th>\n",
       "      <th>纬度</th>\n",
       "    </tr>\n",
       "  </thead>\n",
       "  <tbody>\n",
       "    <tr>\n",
       "      <th>0</th>\n",
       "      <td>2021/12/23 0:00</td>\n",
       "      <td>东马圈镇</td>\n",
       "      <td>0</td>\n",
       "      <td>0</td>\n",
       "      <td>116.844191</td>\n",
       "      <td>39.444862</td>\n",
       "    </tr>\n",
       "    <tr>\n",
       "      <th>1</th>\n",
       "      <td>2021/12/24 0:00</td>\n",
       "      <td>东马圈镇</td>\n",
       "      <td>0</td>\n",
       "      <td>0</td>\n",
       "      <td>116.844191</td>\n",
       "      <td>39.444862</td>\n",
       "    </tr>\n",
       "    <tr>\n",
       "      <th>2</th>\n",
       "      <td>2021/12/25 0:00</td>\n",
       "      <td>东马圈镇</td>\n",
       "      <td>0</td>\n",
       "      <td>0</td>\n",
       "      <td>116.844191</td>\n",
       "      <td>39.444862</td>\n",
       "    </tr>\n",
       "    <tr>\n",
       "      <th>3</th>\n",
       "      <td>2021/12/26 0:00</td>\n",
       "      <td>东马圈镇</td>\n",
       "      <td>0</td>\n",
       "      <td>0</td>\n",
       "      <td>116.844191</td>\n",
       "      <td>39.444862</td>\n",
       "    </tr>\n",
       "    <tr>\n",
       "      <th>4</th>\n",
       "      <td>2021/12/27 0:00</td>\n",
       "      <td>东马圈镇</td>\n",
       "      <td>0</td>\n",
       "      <td>0</td>\n",
       "      <td>116.844191</td>\n",
       "      <td>39.444862</td>\n",
       "    </tr>\n",
       "  </tbody>\n",
       "</table>\n",
       "</div>"
      ],
      "text/plain": [
       "                日期    镇区  经停病例数  患者数量          经度         纬度\n",
       "0  2021/12/23 0:00  东马圈镇      0     0  116.844191  39.444862\n",
       "1  2021/12/24 0:00  东马圈镇      0     0  116.844191  39.444862\n",
       "2  2021/12/25 0:00  东马圈镇      0     0  116.844191  39.444862\n",
       "3  2021/12/26 0:00  东马圈镇      0     0  116.844191  39.444862\n",
       "4  2021/12/27 0:00  东马圈镇      0     0  116.844191  39.444862"
      ]
     },
     "execution_count": 6,
     "metadata": {},
     "output_type": "execute_result"
    }
   ],
   "source": [
    "train.head()"
   ]
  },
  {
   "cell_type": "code",
   "execution_count": 7,
   "id": "5078b898",
   "metadata": {},
   "outputs": [],
   "source": [
    "for index,row in train.iterrows():\n",
    "    train.loc[index, '日期'] = datetime.strptime(row['日期'], \"%Y/%m/%d %H:%M\")"
   ]
  },
  {
   "cell_type": "code",
   "execution_count": 8,
   "id": "159b8bdf",
   "metadata": {},
   "outputs": [],
   "source": [
    "# 生成时间序列\n",
    "start_timestamp = pd.Timestamp(2021,12,23)\n",
    "end_timestamp = pd.Timestamp(2022,2,1)\n",
    "time_series = pd.date_range(start_timestamp,end_timestamp)"
   ]
  },
  {
   "cell_type": "code",
   "execution_count": 9,
   "id": "1d9552a9",
   "metadata": {},
   "outputs": [
    {
     "data": {
      "text/plain": [
       "DatetimeIndex(['2021-12-23', '2021-12-24', '2021-12-25', '2021-12-26',\n",
       "               '2021-12-27', '2021-12-28', '2021-12-29', '2021-12-30',\n",
       "               '2021-12-31', '2022-01-01', '2022-01-02', '2022-01-03',\n",
       "               '2022-01-04', '2022-01-05', '2022-01-06', '2022-01-07',\n",
       "               '2022-01-08', '2022-01-09', '2022-01-10', '2022-01-11',\n",
       "               '2022-01-12', '2022-01-13', '2022-01-14', '2022-01-15',\n",
       "               '2022-01-16', '2022-01-17', '2022-01-18', '2022-01-19',\n",
       "               '2022-01-20', '2022-01-21', '2022-01-22', '2022-01-23',\n",
       "               '2022-01-24', '2022-01-25', '2022-01-26', '2022-01-27',\n",
       "               '2022-01-28', '2022-01-29', '2022-01-30', '2022-01-31',\n",
       "               '2022-02-01'],\n",
       "              dtype='datetime64[ns]', freq='D')"
      ]
     },
     "execution_count": 9,
     "metadata": {},
     "output_type": "execute_result"
    }
   ],
   "source": [
    "time_series"
   ]
  },
  {
   "cell_type": "code",
   "execution_count": 10,
   "id": "4d4f7048",
   "metadata": {},
   "outputs": [
    {
     "data": {
      "text/plain": [
       "True"
      ]
     },
     "execution_count": 10,
     "metadata": {},
     "output_type": "execute_result"
    }
   ],
   "source": [
    "time_series[0] == train.loc[0, \"日期\"]"
   ]
  },
  {
   "cell_type": "code",
   "execution_count": 11,
   "id": "c3b11cc1",
   "metadata": {},
   "outputs": [
    {
     "data": {
      "text/plain": [
       "datetime.datetime(2021, 12, 23, 0, 0)"
      ]
     },
     "execution_count": 11,
     "metadata": {},
     "output_type": "execute_result"
    }
   ],
   "source": [
    "train.loc[0, \"日期\"]"
   ]
  },
  {
   "cell_type": "code",
   "execution_count": 12,
   "id": "6aecc72f",
   "metadata": {},
   "outputs": [
    {
     "data": {
      "text/plain": [
       "Timestamp('2021-12-23 00:00:00', freq='D')"
      ]
     },
     "execution_count": 12,
     "metadata": {},
     "output_type": "execute_result"
    }
   ],
   "source": [
    "time_series[0]"
   ]
  },
  {
   "cell_type": "code",
   "execution_count": 13,
   "id": "711b1080",
   "metadata": {},
   "outputs": [],
   "source": [
    "total_num = []"
   ]
  },
  {
   "cell_type": "code",
   "execution_count": 14,
   "id": "71b0c338",
   "metadata": {},
   "outputs": [],
   "source": [
    "for datetime in time_series:\n",
    "    rows_index = train[(train['日期'] == datetime)].index.tolist()\n",
    "    count = 0\n",
    "    for ind in rows_index:\n",
    "        count += train.loc[ind, '患者数量']\n",
    "    total_num.append(count)"
   ]
  },
  {
   "cell_type": "code",
   "execution_count": 15,
   "id": "ec3c1181",
   "metadata": {},
   "outputs": [
    {
     "data": {
      "text/plain": [
       "[0,\n",
       " 0,\n",
       " 0,\n",
       " 0,\n",
       " 0,\n",
       " 0,\n",
       " 0,\n",
       " 0,\n",
       " 0,\n",
       " 0,\n",
       " 0,\n",
       " 0,\n",
       " 0,\n",
       " 0,\n",
       " 0,\n",
       " 0,\n",
       " 27,\n",
       " 63,\n",
       " 102,\n",
       " 142,\n",
       " 146,\n",
       " 184,\n",
       " 209,\n",
       " 268,\n",
       " 313,\n",
       " 334,\n",
       " 341,\n",
       " 367,\n",
       " 367,\n",
       " 367,\n",
       " 340,\n",
       " 304,\n",
       " 265,\n",
       " 225,\n",
       " 226,\n",
       " 188,\n",
       " 169,\n",
       " 119,\n",
       " 89,\n",
       " 68,\n",
       " 83]"
      ]
     },
     "execution_count": 15,
     "metadata": {},
     "output_type": "execute_result"
    }
   ],
   "source": [
    "total_num"
   ]
  },
  {
   "cell_type": "code",
   "execution_count": 16,
   "id": "28b28df9",
   "metadata": {},
   "outputs": [],
   "source": [
    "train['全市总患者数量'] = 0"
   ]
  },
  {
   "cell_type": "code",
   "execution_count": 17,
   "id": "6c6edf68",
   "metadata": {},
   "outputs": [],
   "source": [
    "i = 0\n",
    "length = len(total_num)\n",
    "for index,row in train.iterrows():\n",
    "    train.loc[index, '全市总患者数量'] = total_num[i]\n",
    "    i += 1\n",
    "    i = i % length"
   ]
  },
  {
   "cell_type": "code",
   "execution_count": 18,
   "id": "f882a7e0",
   "metadata": {},
   "outputs": [
    {
     "data": {
      "text/html": [
       "<div>\n",
       "<style scoped>\n",
       "    .dataframe tbody tr th:only-of-type {\n",
       "        vertical-align: middle;\n",
       "    }\n",
       "\n",
       "    .dataframe tbody tr th {\n",
       "        vertical-align: top;\n",
       "    }\n",
       "\n",
       "    .dataframe thead th {\n",
       "        text-align: right;\n",
       "    }\n",
       "</style>\n",
       "<table border=\"1\" class=\"dataframe\">\n",
       "  <thead>\n",
       "    <tr style=\"text-align: right;\">\n",
       "      <th></th>\n",
       "      <th>日期</th>\n",
       "      <th>镇区</th>\n",
       "      <th>经停病例数</th>\n",
       "      <th>患者数量</th>\n",
       "      <th>经度</th>\n",
       "      <th>纬度</th>\n",
       "      <th>全市总患者数量</th>\n",
       "    </tr>\n",
       "  </thead>\n",
       "  <tbody>\n",
       "    <tr>\n",
       "      <th>0</th>\n",
       "      <td>2021-12-23 00:00:00</td>\n",
       "      <td>东马圈镇</td>\n",
       "      <td>0</td>\n",
       "      <td>0</td>\n",
       "      <td>116.844191</td>\n",
       "      <td>39.444862</td>\n",
       "      <td>0</td>\n",
       "    </tr>\n",
       "    <tr>\n",
       "      <th>1</th>\n",
       "      <td>2021-12-24 00:00:00</td>\n",
       "      <td>东马圈镇</td>\n",
       "      <td>0</td>\n",
       "      <td>0</td>\n",
       "      <td>116.844191</td>\n",
       "      <td>39.444862</td>\n",
       "      <td>0</td>\n",
       "    </tr>\n",
       "    <tr>\n",
       "      <th>2</th>\n",
       "      <td>2021-12-25 00:00:00</td>\n",
       "      <td>东马圈镇</td>\n",
       "      <td>0</td>\n",
       "      <td>0</td>\n",
       "      <td>116.844191</td>\n",
       "      <td>39.444862</td>\n",
       "      <td>0</td>\n",
       "    </tr>\n",
       "    <tr>\n",
       "      <th>3</th>\n",
       "      <td>2021-12-26 00:00:00</td>\n",
       "      <td>东马圈镇</td>\n",
       "      <td>0</td>\n",
       "      <td>0</td>\n",
       "      <td>116.844191</td>\n",
       "      <td>39.444862</td>\n",
       "      <td>0</td>\n",
       "    </tr>\n",
       "    <tr>\n",
       "      <th>4</th>\n",
       "      <td>2021-12-27 00:00:00</td>\n",
       "      <td>东马圈镇</td>\n",
       "      <td>0</td>\n",
       "      <td>0</td>\n",
       "      <td>116.844191</td>\n",
       "      <td>39.444862</td>\n",
       "      <td>0</td>\n",
       "    </tr>\n",
       "    <tr>\n",
       "      <th>...</th>\n",
       "      <td>...</td>\n",
       "      <td>...</td>\n",
       "      <td>...</td>\n",
       "      <td>...</td>\n",
       "      <td>...</td>\n",
       "      <td>...</td>\n",
       "      <td>...</td>\n",
       "    </tr>\n",
       "    <tr>\n",
       "      <th>6227</th>\n",
       "      <td>2022-01-28 00:00:00</td>\n",
       "      <td>北仓镇</td>\n",
       "      <td>0</td>\n",
       "      <td>0</td>\n",
       "      <td>117.117081</td>\n",
       "      <td>39.233295</td>\n",
       "      <td>169</td>\n",
       "    </tr>\n",
       "    <tr>\n",
       "      <th>6228</th>\n",
       "      <td>2022-01-29 00:00:00</td>\n",
       "      <td>北仓镇</td>\n",
       "      <td>0</td>\n",
       "      <td>0</td>\n",
       "      <td>117.117081</td>\n",
       "      <td>39.233295</td>\n",
       "      <td>119</td>\n",
       "    </tr>\n",
       "    <tr>\n",
       "      <th>6229</th>\n",
       "      <td>2022-01-30 00:00:00</td>\n",
       "      <td>北仓镇</td>\n",
       "      <td>0</td>\n",
       "      <td>0</td>\n",
       "      <td>117.117081</td>\n",
       "      <td>39.233295</td>\n",
       "      <td>89</td>\n",
       "    </tr>\n",
       "    <tr>\n",
       "      <th>6230</th>\n",
       "      <td>2022-01-31 00:00:00</td>\n",
       "      <td>北仓镇</td>\n",
       "      <td>0</td>\n",
       "      <td>0</td>\n",
       "      <td>117.117081</td>\n",
       "      <td>39.233295</td>\n",
       "      <td>68</td>\n",
       "    </tr>\n",
       "    <tr>\n",
       "      <th>6231</th>\n",
       "      <td>2022-02-01 00:00:00</td>\n",
       "      <td>北仓镇</td>\n",
       "      <td>0</td>\n",
       "      <td>0</td>\n",
       "      <td>117.117081</td>\n",
       "      <td>39.233295</td>\n",
       "      <td>83</td>\n",
       "    </tr>\n",
       "  </tbody>\n",
       "</table>\n",
       "<p>6232 rows × 7 columns</p>\n",
       "</div>"
      ],
      "text/plain": [
       "                       日期    镇区  经停病例数  患者数量          经度         纬度  全市总患者数量\n",
       "0     2021-12-23 00:00:00  东马圈镇      0     0  116.844191  39.444862        0\n",
       "1     2021-12-24 00:00:00  东马圈镇      0     0  116.844191  39.444862        0\n",
       "2     2021-12-25 00:00:00  东马圈镇      0     0  116.844191  39.444862        0\n",
       "3     2021-12-26 00:00:00  东马圈镇      0     0  116.844191  39.444862        0\n",
       "4     2021-12-27 00:00:00  东马圈镇      0     0  116.844191  39.444862        0\n",
       "...                   ...   ...    ...   ...         ...        ...      ...\n",
       "6227  2022-01-28 00:00:00   北仓镇      0     0  117.117081  39.233295      169\n",
       "6228  2022-01-29 00:00:00   北仓镇      0     0  117.117081  39.233295      119\n",
       "6229  2022-01-30 00:00:00   北仓镇      0     0  117.117081  39.233295       89\n",
       "6230  2022-01-31 00:00:00   北仓镇      0     0  117.117081  39.233295       68\n",
       "6231  2022-02-01 00:00:00   北仓镇      0     0  117.117081  39.233295       83\n",
       "\n",
       "[6232 rows x 7 columns]"
      ]
     },
     "execution_count": 18,
     "metadata": {},
     "output_type": "execute_result"
    }
   ],
   "source": [
    "train"
   ]
  },
  {
   "cell_type": "code",
   "execution_count": 19,
   "id": "48ac2471",
   "metadata": {},
   "outputs": [],
   "source": [
    "output_path='C:/Users/new/Desktop/train_addvar.csv'\n",
    "train.to_csv(output_path,sep=',',index=False,header=False,encoding='utf_8_sig')"
   ]
  },
  {
   "cell_type": "code",
   "execution_count": null,
   "id": "2bca39b4",
   "metadata": {},
   "outputs": [],
   "source": []
  },
  {
   "cell_type": "code",
   "execution_count": null,
   "id": "c6286790",
   "metadata": {},
   "outputs": [],
   "source": []
  }
 ],
 "metadata": {
  "kernelspec": {
   "display_name": "Python 3 (ipykernel)",
   "language": "python",
   "name": "python3"
  },
  "language_info": {
   "codemirror_mode": {
    "name": "ipython",
    "version": 3
   },
   "file_extension": ".py",
   "mimetype": "text/x-python",
   "name": "python",
   "nbconvert_exporter": "python",
   "pygments_lexer": "ipython3",
   "version": "3.9.13"
  }
 },
 "nbformat": 4,
 "nbformat_minor": 5
}
